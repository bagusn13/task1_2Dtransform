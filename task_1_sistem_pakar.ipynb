{
 "cells": [
  {
   "cell_type": "code",
   "execution_count": 30,
   "metadata": {},
   "outputs": [],
   "source": [
    "import matplotlib.pyplot as plt\n",
    "import numpy as np\n",
    "import string\n",
    "import os # File management"
   ]
  },
  {
   "cell_type": "code",
   "execution_count": 2,
   "metadata": {},
   "outputs": [],
   "source": [
    "# mendefinisikan bentuk persegi 4x4\n",
    "a, b, c, d = (2, 2, 1), (2, -2, 1), (-2, -2, 1), (-2, 2, 1)\n",
    "persegi = np.array([a, b, c, d])"
   ]
  },
  {
   "cell_type": "code",
   "execution_count": 3,
   "metadata": {},
   "outputs": [],
   "source": [
    "def translasi2D (mat, tx, ty):\n",
    "    '''\n",
    "    mat = matriks input\n",
    "    dimana  ˜x = (x, y, w) = ˜w(x, y, 1)\n",
    "    tx = besar translasi pada sumbu x\n",
    "    ty = besar translasi pada sumbu y\n",
    "    '''\n",
    "    \n",
    "    # matriks translasi\n",
    "    translasi = np.array([[1, 0, tx], \n",
    "                          [0, 1, ty], \n",
    "                          [0, 0, 1]])\n",
    "    \n",
    "    # mendapatkan baris dan kolom matriks input\n",
    "    baris, kolom = mat.shape\n",
    "    \n",
    "    hasil = np.array([])\n",
    "    \n",
    "    # sesuai konsepnya, matriks input memuat beberapa titik, \n",
    "    # yang berada disetiap baris matriks tersebut. \n",
    "    # titik tersebutlah yang akan kita transformasikan atau dikali dengan matriks translasi\n",
    "    for row in mat:\n",
    "        output_row = translasi@row\n",
    "        hasil = np.append(hasil, output_row, axis = 0)\n",
    "    \n",
    "    return np.reshape(hasil, (baris, kolom))"
   ]
  },
  {
   "cell_type": "code",
   "execution_count": 4,
   "metadata": {},
   "outputs": [],
   "source": [
    "def dilatasi2D (mat, k):\n",
    "    '''\n",
    "    mat = matriks input\n",
    "    dimana  ˜x = (x, y, w) = ˜w(x, y, 1)\n",
    "    k = besar skala\n",
    "    '''\n",
    "    \n",
    "    dilatasi = np.array([[k, 0, 0], \n",
    "                         [0, k, 0], \n",
    "                         [0, 0, 1]])\n",
    "\n",
    "    baris, kolom = mat.shape\n",
    "    \n",
    "    hasil = np.array([])\n",
    "    \n",
    "    for row in mat:\n",
    "        output_row = dilatasi @ row\n",
    "        hasil = np.append(hasil, output_row, axis = 0)\n",
    "    \n",
    "    return np.reshape(hasil, (baris, kolom))"
   ]
  },
  {
   "cell_type": "code",
   "execution_count": 5,
   "metadata": {},
   "outputs": [],
   "source": [
    "def rotasi2D (mat, theta):\n",
    "    '''\n",
    "    mat = matriks input\n",
    "    dimana  ˜x = (x, y, w) = ˜w(x, y, 1)\n",
    "    theta = besar sudut rotasi dalam satuan radian\n",
    "    '''\n",
    "    \n",
    "    sin = np.sin(theta)\n",
    "    cos = np.cos(theta)\n",
    "    rotasi = np.array([[cos, -sin, 0], \n",
    "                       [sin,  cos, 0], \n",
    "                       [  0,    0, 1]])\n",
    "\n",
    "    baris, kolom = mat.shape\n",
    "    \n",
    "    hasil = np.array([])\n",
    "    \n",
    "    for row in mat:\n",
    "        output_row = rotasi @ row\n",
    "        hasil = np.append(hasil, output_row, axis = 0)\n",
    "    \n",
    "    return np.reshape(hasil, (baris, kolom))"
   ]
  },
  {
   "cell_type": "code",
   "execution_count": 6,
   "metadata": {},
   "outputs": [],
   "source": [
    "# rotasi + translasi \n",
    "# transformasi ini juga dikenal sebagai 2d euclidean transformation\n",
    "# dapat ditulis dengan \n",
    "# x' = Rx + t \n",
    "# dimana R = [[cos(theta), -sin(theta)],[sin(theta), cos(theta)]]\n",
    "# maka \n",
    "# x' = (xcostheta) - ysin(theta)) + tx\n",
    "# y' = (xsin(theta) + ycos(theta)) + ty\n",
    "#\n",
    "# matriks rotasi + translasi untuk koordinat homegenous (x,y,1)\n",
    "# matriks = [[cos, -sin, tx],\n",
    "#            [sin, cos, ty], \n",
    "#            [0  , 0  , 1]]\n",
    "\n",
    "# dilatasi + rotasi + translasi\n",
    "# transformasi ini juga dikenal dengan similarity transform\n",
    "# x' = sRx + tx\n",
    "# y' = sRy + ty\n",
    "# dimana s adalah faktor skala\n",
    "# x' = s(xcos(theta) - ysin(theta)) + tx \n",
    "# y' = s(xsin(theta) + ycos(theta)) + ty \n",
    "# matrix = [[s.cos, -s.sin, tx],\n",
    "#           [s.sin, s.cos  , ty],\n",
    "#           [0    , 0    , 1]]"
   ]
  },
  {
   "cell_type": "code",
   "execution_count": 6,
   "metadata": {},
   "outputs": [],
   "source": [
    "def affine2D (mat, dilatasi = 1., translasi = (0.,0.), rotasi = 0.):\n",
    "    \n",
    "    tx,ty = translasi\n",
    "    s     = dilatasi\n",
    "    theta = rotasi\n",
    "    \n",
    "    affineMat = np.array([[s*np.cos(theta), -s*np.sin(theta), tx],\n",
    "                          [s*np.sin(theta), s*np.cos(theta) , ty],\n",
    "                          [0              , 0               , 1 ]])\n",
    "    \n",
    "    baris, kolom = mat.shape\n",
    "    \n",
    "    hasil = np.array([])\n",
    "    \n",
    "    for row in mat:\n",
    "        output_row = affineMat @ row\n",
    "        hasil = np.append(hasil, output_row, axis = 0)\n",
    "    \n",
    "    return np.reshape(hasil, (baris, kolom))"
   ]
  },
  {
   "cell_type": "code",
   "execution_count": 37,
   "metadata": {},
   "outputs": [],
   "source": [
    "def draw_2D(mat, title='Transformasi Geometri' , filename='temp.png'):\n",
    "    color_lut = 'rgbc'\n",
    "    fig = plt.figure()\n",
    "    ax = plt.gca()\n",
    "    xs = []\n",
    "    ys = []\n",
    "    i = 0\n",
    "    \n",
    "    for row in mat:\n",
    "        x, y, w = row\n",
    "    \n",
    "        xs.append(x)\n",
    "        ys.append(y)\n",
    "    \n",
    "        i = int(i)\n",
    "        c = color_lut[i]\n",
    "        plt.scatter(x, y, color=c)\n",
    "        plt.text(x + 0.15, y, f\"{string.ascii_letters[i]}\")\n",
    "        i += 1\n",
    "        \n",
    "    xs.append(xs[0])\n",
    "    ys.append(ys[0])\n",
    "    plt.plot(xs, ys, color=\"maroon\", linestyle='solid')\n",
    "    ax.set_xticks(np.arange(-10, 10, 1))\n",
    "    ax.set_yticks(np.arange(-4, 10, 1))\n",
    "    plt.title(title)\n",
    "    plt.grid()\n",
    "    plt.savefig(filename)\n",
    "    plt.show()"
   ]
  },
  {
   "cell_type": "code",
   "execution_count": 44,
   "metadata": {},
   "outputs": [],
   "source": [
    "awal = persegi\n",
    "dl = dilatasi2D(awal,2)\n",
    "rt = rotasi2D(awal,np.pi/6)\n",
    "tl = translasi2D(awal,2,2)\n",
    "translasi_persegi = affine2D(persegi,translasi=(1,1))\n",
    "dilatasi_persegi = affine2D(persegi,dilatasi=2)\n",
    "rotasi_persegi = affine2D(persegi,rotasi=np.pi/6)"
   ]
  },
  {
   "cell_type": "code",
   "execution_count": 41,
   "metadata": {},
   "outputs": [
    {
     "data": {
      "image/png": "[encoded data removed]",
      "text/plain": [
       "<Figure size 432x288 with 1 Axes>"
      ]
     },
     "metadata": {},
     "output_type": "display_data"
    }
   ],
   "source": [
    "draw_2D(persegi,'Sebelum Transformasi', 'persegi.png')"
   ]
  },
  {
   "cell_type": "code",
   "execution_count": 40,
   "metadata": {},
   "outputs": [
    {
     "data": {
      "image/png": "[encoded data removed]",
      "text/plain": [
       "<Figure size 432x288 with 1 Axes>"
      ]
     },
     "metadata": {},
     "output_type": "display_data"
    }
   ],
   "source": [
    "draw_2D(translasi_persegi, 'Setelah ditranslasi sebesar tx = 1 , ty = 1','translasi_persegi.png')"
   ]
  },
  {
   "cell_type": "code",
   "execution_count": 45,
   "metadata": {},
   "outputs": [
    {
     "data": {
      "image/png": "[encoded data removed]",
      "text/plain": [
       "<Figure size 432x288 with 1 Axes>"
      ]
     },
     "metadata": {},
     "output_type": "display_data"
    }
   ],
   "source": [
    "draw_2D(dilatasi_persegi, 'Setelah dilatasi sebesar k = 2','dilatasi_persegi.png')"
   ]
  },
  {
   "cell_type": "code",
   "execution_count": 47,
   "metadata": {},
   "outputs": [
    {
     "data": {
      "image/png": "[encoded data removed]",
      "text/plain": [
       "<Figure size 432x288 with 1 Axes>"
      ]
     },
     "metadata": {},
     "output_type": "display_data"
    }
   ],
   "source": [
    "draw_2D(rotasi_persegi, 'Setelah dirotasi sebesar theta = phi/6','rotas_persegi.png')"
   ]
  },
  {
   "cell_type": "code",
   "execution_count": 11,
   "metadata": {},
   "outputs": [
    {
     "data": {
      "text/plain": [
       "'\\ntranslasi = 2 derajat kebebasan\\nskala/rotasi = 4 derajat kebebasan\\naffine = 6 derajat kebebasan\\nprojective = 8 derajat kebebasan\\n\\nTranslasi adalah operasi satu titik, jadi setidaknya menggunakan satu titik\\nRotasi dan skala setidaknya dua titik\\nAffine (atau similarity) setidaknya tiga titik\\nProjective Transformation setidaknya 4 titik\\n\\nkarena baris ketiga juga dipakai dalam matriks projective maka hasil yang\\ndidapat tidak langsung berupa koordinat melainkan [wx,wy,w]\\nyang mana titik tersebut bukan berada di dimensi 2 melainkan berada di dimensi 3\\ndisinilah asal kata projeksi\\n\\nuntuk ke dimensi 2 maka titik tersebut kita bagi dengan w supaya menghasilkan\\n[x,y,1]\\n\\ntransformasi 2D itu matriks transformasi 3x3\\nprojective transformation itu punya 8 dof\\nKenapa bisa jadi matriks 3x3 dari 8 dof?\\nSatunya yang terakhir itu angka 1\\nresidu dari matriks awalnya, yakni matriks identitas\\n8 dof itu 6 pertamanya juga sebenernya scaling, rotation, Dan translation\\n2 terakhir itulah yang mendefinisikan projection\\n\\nx_result = (x*h00 + y*h01 + h02) / (x*h20 + y*h21 + h22)\\ny_result = (x*h10 + y*h11 + h12) / (x*h20 + y*h21 + h22)\\n\\n\\nresult = np.array([\\n  [h00, h01, h02],\\n  [h10, h11, h12],\\n  [h20, h21, h22]\\n]) @ np.array([x, y, 1]).T\\n'"
      ]
     },
     "execution_count": 11,
     "metadata": {},
     "output_type": "execute_result"
    }
   ],
   "source": [
    "'''\n",
    "translasi = 2 derajat kebebasan\n",
    "skala/rotasi = 4 derajat kebebasan\n",
    "affine = 6 derajat kebebasan\n",
    "projective = 8 derajat kebebasan\n",
    "\n",
    "Translasi adalah operasi satu titik, jadi setidaknya menggunakan satu titik\n",
    "Rotasi dan skala setidaknya dua titik\n",
    "Affine (atau similarity) setidaknya tiga titik\n",
    "Projective Transformation setidaknya 4 titik\n",
    "\n",
    "transformasi 2D itu matriks transformasi 3x3\n",
    "projective transformation itu punya 8 dof\n",
    "Kenapa bisa jadi matriks 3x3 dari 8 dof?\n",
    "Satunya yang terakhir itu angka 1\n",
    "residu dari matriks awalnya, yakni matriks identitas\n",
    "8 dof itu 6 pertamanya juga sebenernya scaling, rotation, Dan translation\n",
    "2 terakhir itulah yang mendefinisikan projection\n",
    "\n",
    "pre_result = [[h00, h01, h02],\n",
    "              [h10, h11, h12],\n",
    "              [h20, h21, h22]] @ [x, y, 1]\n",
    "              \n",
    "              (3x3) @ (3x1) = (3x1) = (wx,wy,w)\n",
    "\n",
    "karena baris ketiga juga dipakai dalam matriks projective maka hasil yang\n",
    "didapat tidak langsung berupa koordinat melainkan [wx,wy,w]\n",
    "yang mana titik tersebut bukan berada di dimensi 2 melainkan berada di dimensi 3\n",
    "disinilah asal kata projeksi\n",
    "\n",
    "untuk ke dimensi 2 maka titik tersebut kita bagi dengan w supaya menghasilkan\n",
    "[x,y,1]\n",
    "\n",
    "x' = (x*h00 + y*h01 + h02) / (x*h20 + y*h21 + h22)\n",
    "y' = (x*h10 + y*h11 + h12) / (x*h20 + y*h21 + h22)\n",
    "'''"
   ]
  },
  {
   "cell_type": "code",
   "execution_count": 17,
   "metadata": {},
   "outputs": [],
   "source": [
    "def projective2D(mat,v1,v2):\n",
    "    projective_matrix = np.array([[1, 0, 0],\n",
    "                                  [0, 1, 0],\n",
    "                                  [v1, v2, 1]])\n",
    "    \n",
    "    # mendapatkan ukuran matriks input\n",
    "    baris, kolom = mat.shape\n",
    "    \n",
    "    hasil = np.array([])\n",
    "    for row in mat:\n",
    "        # mat_w akan menghasilkan (wx,wy,w)\n",
    "        mat_w = projective_matrix @ row\n",
    "        # untuk menghasilkan (x,y,1) maka dibagi dengan w, \n",
    "        # dimana w bisa kita dapat pada komponen terakhir dari mat_w\n",
    "        output_row = mat_w / mat_w[2]\n",
    "        hasil = np.append(hasil, output_row, axis = 0)\n",
    "    \n",
    "    return np.reshape(hasil, (baris, kolom))"
   ]
  },
  {
   "cell_type": "code",
   "execution_count": 48,
   "metadata": {
    "scrolled": true
   },
   "outputs": [
    {
     "data": {
      "image/png": "[encoded data removed]",
      "text/plain": [
       "<Figure size 432x288 with 1 Axes>"
      ]
     },
     "metadata": {},
     "output_type": "display_data"
    }
   ],
   "source": [
    "pm = projective2D(persegi, 0.1,0.05)\n",
    "draw_2D(pm,'Setelah diprojeksikan menggunakan v1 = 0.1 dan v2 = 0.05','projeksi_persegi.png' )"
   ]
  },
  {
   "cell_type": "code",
   "execution_count": null,
   "metadata": {},
   "outputs": [],
   "source": []
  }
 ],
 "metadata": {
  "kernelspec": {
   "display_name": "Python 3",
   "language": "python",
   "name": "python3"
  },
  "language_info": {
   "codemirror_mode": {
    "name": "ipython",
    "version": 3
   },
   "file_extension": ".py",
   "mimetype": "text/x-python",
   "name": "python",
   "nbconvert_exporter": "python",
   "pygments_lexer": "ipython3",
   "version": "3.6.5"
  }
 },
 "nbformat": 4,
 "nbformat_minor": 2
}
